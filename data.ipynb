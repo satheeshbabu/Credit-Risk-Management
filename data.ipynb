{
  "nbformat": 4,
  "nbformat_minor": 0,
  "metadata": {
    "colab": {
      "name": "data.ipynb",
      "version": "0.3.2",
      "provenance": [],
      "include_colab_link": true
    },
    "kernelspec": {
      "name": "python3",
      "display_name": "Python 3"
    }
  },
  "cells": [
    {
      "cell_type": "markdown",
      "metadata": {
        "id": "view-in-github",
        "colab_type": "text"
      },
      "source": [
        "<a href=\"https://colab.research.google.com/github/vermapshikha/Credit-Risk-Management/blob/master/data.ipynb\" target=\"_parent\"><img src=\"https://colab.research.google.com/assets/colab-badge.svg\" alt=\"Open In Colab\"/></a>"
      ]
    },
    {
      "cell_type": "code",
      "metadata": {
        "id": "GMwxjhzlqge_",
        "colab_type": "code",
        "colab": {}
      },
      "source": [
        "import pandas as pd \n",
        "import numpy as np\n",
        "from fastai import *\n",
        "from fastai.vision import *"
      ],
      "execution_count": 0,
      "outputs": []
    },
    {
      "cell_type": "markdown",
      "metadata": {
        "id": "DanKqfVNqlSL",
        "colab_type": "text"
      },
      "source": [
        "This notebook works in dataset preparation and pre-processing for the Childproofing Electrical project\n"
      ]
    },
    {
      "cell_type": "code",
      "metadata": {
        "id": "kFKu8Mn0qykE",
        "colab_type": "code",
        "colab": {}
      },
      "source": [
        "root_dir=\n",
        "base_dir=root_dir"
      ],
      "execution_count": 0,
      "outputs": []
    }
  ]
}